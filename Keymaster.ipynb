{
 "cells": [
  {
   "cell_type": "code",
   "execution_count": 2,
   "id": "319883ac",
   "metadata": {},
   "outputs": [
    {
     "name": "stdout",
     "output_type": "stream",
     "text": [
      "Welcome to password generator\n",
      "How many letters you want in your password?\n",
      "2\n",
      "How many symbols you want in your password?\n",
      "2\n",
      "How many numbers you want in your password?\n",
      "3\n",
      "The Password is:\n",
      "gX(!893\n"
     ]
    }
   ],
   "source": [
    "import random\n",
    "letters = ['a','b','c','d','e','f','g','h','i','j','k','l','m','n',\n",
    "           'o','p','q','r','s','t','u','v','w','x','y','z','A','B','C',\n",
    "           'D','E','F','G','H','I','J','K','L','M','N','O','P','Q',\n",
    "           'R','S','T','U','V','W','X','Y','Z']\n",
    "numbers = ['0','1','2','3','4','5','6','7','8','9']\n",
    "symbols = ['!','@','#','$','%','&','*','+','(',')']\n",
    "print(\"Welcome to password generator\")\n",
    "n_letters = int(input(\"How many letters you want in your password?\\n\"))\n",
    "n_symbols = int(input(\"How many symbols you want in your password?\\n\"))\n",
    "n_numbers = int(input(\"How many numbers you want in your password?\\n\"))\n",
    "password = \"\"\n",
    "for i in range(1,n_letters+1):\n",
    "    char = random.choice(letters)\n",
    "    password = password + char\n",
    "\n",
    "for i in range(1,n_symbols+1):\n",
    "    char = random.choice(symbols)\n",
    "    password = password + char\n",
    "\n",
    "for i in range(1,n_numbers+1):\n",
    "    char = random.choice(numbers)\n",
    "    password = password + char\n",
    "\n",
    "print('The Password is:')\n",
    "print(password)"
   ]
  },
  {
   "cell_type": "code",
   "execution_count": null,
   "id": "c929dfb9",
   "metadata": {},
   "outputs": [],
   "source": []
  }
 ],
 "metadata": {
  "kernelspec": {
   "display_name": "Python 3 (ipykernel)",
   "language": "python",
   "name": "python3"
  },
  "language_info": {
   "codemirror_mode": {
    "name": "ipython",
    "version": 3
   },
   "file_extension": ".py",
   "mimetype": "text/x-python",
   "name": "python",
   "nbconvert_exporter": "python",
   "pygments_lexer": "ipython3",
   "version": "3.11.5"
  }
 },
 "nbformat": 4,
 "nbformat_minor": 5
}
