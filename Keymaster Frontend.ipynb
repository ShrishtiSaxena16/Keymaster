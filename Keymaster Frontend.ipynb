{
 "cells": [
  {
   "cell_type": "code",
   "execution_count": 2,
   "id": "8d09af10",
   "metadata": {},
   "outputs": [
    {
     "name": "stdout",
     "output_type": "stream",
     "text": [
      "Collecting pyperclip\n",
      "  Using cached pyperclip-1.9.0.tar.gz (20 kB)\n",
      "  Preparing metadata (setup.py): started\n",
      "  Preparing metadata (setup.py): finished with status 'done'\n",
      "Building wheels for collected packages: pyperclip\n",
      "  Building wheel for pyperclip (setup.py): started\n",
      "  Building wheel for pyperclip (setup.py): finished with status 'done'\n",
      "  Created wheel for pyperclip: filename=pyperclip-1.9.0-py3-none-any.whl size=11020 sha256=524c68edde9f3f0c8b6c42f2bc38217ef13c45eeb99f45b06cae497ff1ec4068\n",
      "  Stored in directory: c:\\users\\shris\\appdata\\local\\pip\\cache\\wheels\\e8\\e7\\56\\591cb88ba1783b38c40d584026e766aac9c3a048e34128ce8b\n",
      "Successfully built pyperclip\n",
      "Installing collected packages: pyperclip\n",
      "Successfully installed pyperclip-1.9.0\n"
     ]
    }
   ],
   "source": [
    "!pip install pyperclip #For copy paste purpose"
   ]
  },
  {
   "cell_type": "code",
   "execution_count": 3,
   "id": "9308f887",
   "metadata": {},
   "outputs": [],
   "source": [
    "from tkinter import * #standard python interface to create GUI applications\n",
    "import string  #provides constant for manipulation/operation of string(ASCII characters only)\n",
    "import random  #for generating random numbers\n",
    "import pyperclip #for copy paste clipboard purpose"
   ]
  },
  {
   "cell_type": "code",
   "execution_count": null,
   "id": "fddacb13",
   "metadata": {},
   "outputs": [],
   "source": [
    "def generator():\n",
    "    small_alphabets=string.ascii_lowercase\n",
    "    capital_alphabets=string.ascii_uppercase\n",
    "    numbers=string.digits\n",
    "    special_characters=string.punctuation\n",
    "\n",
    "    all=small_alphabets+capital_alphabets+numbers+special_characters\n",
    "    password_length=int(length_Box.get())\n",
    "\n",
    "    if choice.get()==1:\n",
    "        passwordField.insert(0,random.sample(small_alphabets,password_length))\n",
    "\n",
    "    if choice.get()==2:\n",
    "        passwordField.insert(0,random.sample(small_alphabets+capital_alphabets,password_length))\n",
    "\n",
    "    if choice.get()==3:\n",
    "        passwordField.insert(0,random.sample(all,password_length))\n",
    "\n",
    "\n",
    "def copy():\n",
    "    random_password=passwordField.get()\n",
    "    pyperclip.copy(random_password)\n",
    "\n",
    "root=Tk() #creates main application window\n",
    "root.config(bg='gray20') #bg color\n",
    "choice=IntVar() #creates integer var to store weak,medium and strong as per user's choice\n",
    "Font=('arial',13,'bold')\n",
    "passwordLabel=Label(root,text='Password Generator',font=('times new roman',20,'bold'),bg='gray20',fg='white')\n",
    "passwordLabel.grid(pady=10)\n",
    "\n",
    "#for selecting strength buttons are used\n",
    "weakradioButton=Radiobutton(root,text='Weak',value=1,variable=choice,font=Font)\n",
    "weakradioButton.grid(pady=5)\n",
    "\n",
    "mediumradioButton=Radiobutton(root,text='Medium',value=2,variable=choice,font=Font)\n",
    "mediumradioButton.grid(pady=5)\n",
    "\n",
    "strongradioButton=Radiobutton(root,text='Strong',value=3,variable=choice,font=Font)\n",
    "strongradioButton.grid(pady=5)\n",
    "\n",
    "lengthLabel=Label(root,text='Password Length',font=Font,bg='gray20',fg='white')\n",
    "lengthLabel.grid(pady=5)\n",
    "\n",
    "length_Box=Spinbox(root,from_=5,to_=18,width=5,font=Font)\n",
    "length_Box.grid(pady=5)\n",
    "\n",
    "generateButton=Button(root,text='Generate',font=Font,command=generator)  #triggers password generation\n",
    "generateButton.grid(pady=5)\n",
    "\n",
    "passwordField=Entry(root,width=25,bd=2,font=Font)  #field where password is displayed\n",
    "passwordField.grid()\n",
    "\n",
    "copyButton=Button(root,text='Copy',font=Font,command=copy) #to copy paste\n",
    "copyButton.grid(pady=5)\n",
    "\n",
    "root.mainloop() # starts the main event loop keeps the window open for user's interaction until it is closed by the user only\n"
   ]
  },
  {
   "cell_type": "code",
   "execution_count": null,
   "id": "af520594",
   "metadata": {},
   "outputs": [],
   "source": []
  }
 ],
 "metadata": {
  "kernelspec": {
   "display_name": "Python 3 (ipykernel)",
   "language": "python",
   "name": "python3"
  },
  "language_info": {
   "codemirror_mode": {
    "name": "ipython",
    "version": 3
   },
   "file_extension": ".py",
   "mimetype": "text/x-python",
   "name": "python",
   "nbconvert_exporter": "python",
   "pygments_lexer": "ipython3",
   "version": "3.11.5"
  }
 },
 "nbformat": 4,
 "nbformat_minor": 5
}
